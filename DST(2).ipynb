{
  "nbformat": 4,
  "nbformat_minor": 0,
  "metadata": {
    "kernelspec": {
      "display_name": "Python 3",
      "language": "python",
      "name": "python3"
    },
    "language_info": {
      "codemirror_mode": {
        "name": "ipython",
        "version": 3
      },
      "file_extension": ".py",
      "mimetype": "text/x-python",
      "name": "python",
      "nbconvert_exporter": "python",
      "pygments_lexer": "ipython3",
      "version": "3.7.4"
    },
    "colab": {
      "name": "DST(2).ipynb",
      "provenance": [],
      "collapsed_sections": []
    }
  },
  "cells": [
    {
      "cell_type": "code",
      "metadata": {
        "id": "oJv2odX4HU2z"
      },
      "source": [
        "from tabulate import tabulate\n",
        "import networkx as nx\n",
        "import numpy as np\n",
        "import matplotlib as plt"
      ],
      "execution_count": 1,
      "outputs": []
    },
    {
      "cell_type": "code",
      "metadata": {
        "id": "DmozLuBXHU23"
      },
      "source": [
        "from collections import defaultdict \n",
        "def GetEulerPath(X):\n",
        "\n",
        "    edges=[]\n",
        "    class Graph: \n",
        "        def __init__(self,vertices):\n",
        "            self.V= vertices #No. of vertices \n",
        "            self.graph = defaultdict(list)  \n",
        "            self.Time = 0 \n",
        "        def addEdge(self,u,v): \n",
        "            self.graph[u].append(v) \n",
        "            self.graph[v].append(u) \n",
        "\n",
        "        def rmvEdge(self, u, v): \n",
        "            for index, key in enumerate(self.graph[u]): \n",
        "                if key == v: \n",
        "                    self.graph[u].pop(index) \n",
        "            for index, key in enumerate(self.graph[v]): \n",
        "                if key == u: \n",
        "                    self.graph[v].pop(index) \n",
        "\n",
        "        def DFSCount(self, v, visited): \n",
        "            count = 1\n",
        "            visited[v] = True\n",
        "            for i in self.graph[v]: \n",
        "                if visited[i] == False: \n",
        "                    count = count + self.DFSCount(i, visited)\t\t \n",
        "            return count \n",
        " \n",
        "        def isValidNextEdge(self, u, v): \n",
        "\n",
        "            if len(self.graph[u]) == 1: \n",
        "                return True\n",
        "            else: \n",
        "\t\n",
        "                visited =[False]*(self.V) \n",
        "                count1 = self.DFSCount(u, visited) \n",
        "    \n",
        "                self.rmvEdge(u, v) \n",
        "                visited =[False]*(self.V) \n",
        "                count2 = self.DFSCount(u, visited) \n",
        "\n",
        "                self.addEdge(u,v) \n",
        "\n",
        "                return False if count1 > count2 else True\n",
        "\n",
        "        def printEulerUtil(self, u): \n",
        "            for v in self.graph[u]: \n",
        "                if self.isValidNextEdge(u, v): \n",
        "                    edges.append((u,v))\n",
        "                    self.rmvEdge(u, v) \n",
        "                    self.printEulerUtil(v) \n",
        "\n",
        "\n",
        "\n",
        "        '''The main function that print Eulerian Trail. It first finds an odd \n",
        "        degree vertex (if there is any) and then calls printEulerUtil() \n",
        "        to print the path '''\n",
        "        def printEulerTour(self): \n",
        "            #Find a vertex with odd degree \n",
        "            u = 0\n",
        "            for i in range(self.V): \n",
        "                if len(self.graph[i]) %2 != 0 : \n",
        "                    u = i \n",
        "                    break\n",
        "            print (\"\\n\") \n",
        "            self.printEulerUtil(u) \n",
        "\n",
        "\n",
        "    g1 = Graph(len(X[0]))\n",
        "    l=[]\n",
        "    for i in range(len(X)):\n",
        "        for j in range(len(X[i])):\n",
        "            if(X[i][j]==1 and (j,i) not in l):\n",
        "#             if(X[i][j]==1):\n",
        "                l.append((i,j))\n",
        "    for item in l:\n",
        "        g1.addEdge(item[0],item[1]) \n",
        "    g1.printEulerTour() \n",
        "\n",
        "    if(len(edges)==len(l)):\n",
        "        print(\"Euler path: \", edges)\n",
        "    else:\n",
        "        print(\"No Euler path\")\n"
      ],
      "execution_count": 2,
      "outputs": []
    },
    {
      "cell_type": "code",
      "metadata": {
        "id": "QEYvC0W7HU23"
      },
      "source": [
        "def ChromaticNumber(X):\n",
        " \n",
        "    class Graph():\n",
        " \n",
        "        def __init__(self, vertices):\n",
        "            self.V = vertices\n",
        "            self.graph = [[0 for column in range(vertices)]\\\n",
        "                                  for row in range(vertices)]\n",
        "\n",
        "        def isSafe(self, v, colour, c):\n",
        "            for i in range(self.V):\n",
        "                if self.graph[v][i] == 1 and colour[i] == c:\n",
        "                    return False\n",
        "            return True\n",
        "\n",
        "        def graphColourUtil(self, m, colour, v):\n",
        "            if v == self.V:\n",
        "                return True\n",
        "            for c in range(1, m + 1):\n",
        "                if self.isSafe(v, colour, c) == True:\n",
        "                    colour[v] = c\n",
        "                    if self.graphColourUtil(m, colour, v + 1) == True:\n",
        "                        return True\n",
        "                    colour[v] = 0\n",
        "        def graphColouring(self, m):\n",
        "            colour = [0] * self.V\n",
        "            if self.graphColourUtil(m, colour, 0) == None:\n",
        "                return False\n",
        "            # Print the solution\n",
        "            print(\"Solution exist and Following are the assigned colours:\")\n",
        "            for c in colour:\n",
        "                print(c,\" \",end='')\n",
        "            print(\"\\n\",\"Chromatic Number of Graph is:\",max(colour))\n",
        "            return True\n",
        "    # Driver Code\n",
        "    g = Graph(len(X[1]))\n",
        "    g.graph = X\n",
        "    m = len(X[1])\n",
        "    g.graphColouring(m)"
      ],
      "execution_count": 3,
      "outputs": []
    },
    {
      "cell_type": "code",
      "metadata": {
        "id": "LKkR6b11HU24"
      },
      "source": [
        "def Hamiltonian(A):\n",
        "\n",
        "    class Graph:\n",
        " \n",
        "        def __init__(self, edges, N):\n",
        " \n",
        "            self.adjList = [[] for _ in range(N)]\n",
        " \n",
        "            for (src, dest) in edges:\n",
        "                self.adjList[src].append(dest)\n",
        "                self.adjList[dest].append(src)\n",
        " \n",
        " \n",
        "    def printAllHamiltonianPaths(g, v, visited, path, N):\n",
        " \n",
        "        if len(path) == N:\n",
        "            print(path)\n",
        "            return\n",
        " \n",
        "        for w in g.adjList[v]:\n",
        "\n",
        "            if not visited[w]:\n",
        "                visited[w] = True\n",
        "                path.append(w)\n",
        " \n",
        "                printAllHamiltonianPaths(g, w, visited, path, N)\n",
        " \n",
        "                # Backtrack\n",
        "                visited[w] = False\n",
        "                path.pop()\n",
        " \n",
        " \n",
        "    if __name__ == '__main__':\n",
        " \n",
        "        X=A\n",
        "        l=[]\n",
        "        for i in range(len(X)):\n",
        "            for j in range(len(X[i])):\n",
        "                if(X[i][j]==1 and (j,i) not in l):\n",
        "                    l.append((i,j))\n",
        "        edges = l\n",
        "        N = len(X[0])\n",
        " \n",
        "        g = Graph(edges, N)\n",
        "\n",
        "        start = 0\n",
        " \n",
        "        path = [start]\n",
        "\n",
        "        visited = [False] * N\n",
        "        visited[start] = True\n",
        " \n",
        "        printAllHamiltonianPaths(g, start, visited, path, N)\n",
        " "
      ],
      "execution_count": 4,
      "outputs": []
    },
    {
      "cell_type": "code",
      "metadata": {
        "id": "fu_LPoWUHU24"
      },
      "source": [
        "def printgraph(A):\n",
        "    h=nx.from_numpy_matrix(np.matrix(A))\n",
        "    nx.draw(h,with_labels=1)"
      ],
      "execution_count": 5,
      "outputs": []
    },
    {
      "cell_type": "code",
      "metadata": {
        "colab": {
          "base_uri": "https://localhost:8080/",
          "height": 828
        },
        "id": "uMEwKDkpHU24",
        "outputId": "6c0ec2fc-ef25-488f-e8ba-a06a5233400c"
      },
      "source": [
        "def MainMenu():\n",
        "    A=eval(input(\"Enter Adjancey Matrix: \"))\n",
        "    print(A,type(A))\n",
        "    printgraph(A)\n",
        "    menu=[[\"Press\",\"To Find \"],[1,\"Euler Path\"],[2,\"Hamiltonian Cycle\"],[3,\"Chromatic Number\"],[4,\"Exit\"]]\n",
        "    print(tabulate(menu,headers=\"firstrow\",tablefmt=\"grid\"))\n",
        "    sub_menu=int(input())\n",
        "    if(sub_menu==1):\n",
        "        GetEulerPath(A)\n",
        "    if(sub_menu==2):\n",
        "        Hamiltonian(A)\n",
        "    if(sub_menu==3):\n",
        "        ChromaticNumber(A)\n",
        "MainMenu()\n",
        "A=[[0,0,1,1],[0,0,1,1],[1,1,0,0],[1,1,0,0]]\n",
        "B=[[1,1,0,0,1,0],[1,0,1,0,1,0],[0,1,0,1,0,0],[0,0,1,0,1,1],[1,1,0,1,0,0],[0,0,0,1,0,0]]\n",
        "euler_path_eg=[[0,1,1,1],[1,0,1,0],[1,1,0,0],[1,0,0,0]]\n",
        "c=[[0,1,0,1],[1,0,1,1],[0,1,0,1],[1,1,1,0]]\n",
        "d=[[0,1,0,0,0,1],[1,0,1,0,0,1],[0,1,0,1,0,1],[0,0,1,0,1,1],[1,0,0,1,0,1],[1,1,1,1,1,0]]"
      ],
      "execution_count": 8,
      "outputs": [
        {
          "output_type": "stream",
          "text": [
            "Enter Adjancey Matrix: [[0,1,0,0,0,1],[1,0,1,0,0,1],[0,1,0,1,0,1],[0,0,1,0,1,1],[1,0,0,1,0,1],[1,1,1,1,1,0]]\n",
            "[[0, 1, 0, 0, 0, 1], [1, 0, 1, 0, 0, 1], [0, 1, 0, 1, 0, 1], [0, 0, 1, 0, 1, 1], [1, 0, 0, 1, 0, 1], [1, 1, 1, 1, 1, 0]] <class 'list'>\n",
            "+---------+-------------------+\n",
            "|   Press | To Find           |\n",
            "+=========+===================+\n",
            "|       1 | Euler Path        |\n",
            "+---------+-------------------+\n",
            "|       2 | Hamiltonian Cycle |\n",
            "+---------+-------------------+\n",
            "|       3 | Chromatic Number  |\n",
            "+---------+-------------------+\n",
            "|       4 | Exit              |\n",
            "+---------+-------------------+\n",
            "2\n",
            "[0, 1, 2, 3, 4, 5]\n",
            "[0, 1, 2, 3, 5, 4]\n",
            "[0, 1, 2, 5, 3, 4]\n",
            "[0, 1, 2, 5, 4, 3]\n",
            "[0, 1, 5, 2, 3, 4]\n",
            "[0, 1, 5, 4, 3, 2]\n",
            "[0, 5, 1, 2, 3, 4]\n",
            "[0, 5, 4, 3, 2, 1]\n",
            "[0, 4, 3, 2, 1, 5]\n",
            "[0, 4, 3, 2, 5, 1]\n",
            "[0, 4, 3, 5, 1, 2]\n",
            "[0, 4, 3, 5, 2, 1]\n",
            "[0, 4, 5, 1, 2, 3]\n",
            "[0, 4, 5, 3, 2, 1]\n"
          ],
          "name": "stdout"
        },
        {
          "output_type": "display_data",
          "data": {
            "image/png": "[encoded data removed]",
            "text/plain": [
              "<Figure size 432x288 with 1 Axes>"
            ]
          },
          "metadata": {
            "tags": []
          }
        }
      ]
    },
    {
      "cell_type": "code",
      "metadata": {
        "scrolled": true,
        "id": "gChsrMg_HU24"
      },
      "source": [
        ""
      ],
      "execution_count": null,
      "outputs": []
    },
    {
      "cell_type": "code",
      "metadata": {
        "id": "xXN6GkcWHU24"
      },
      "source": [
        ""
      ],
      "execution_count": null,
      "outputs": []
    },
    {
      "cell_type": "code",
      "metadata": {
        "id": "Xaxo5hdkHU25"
      },
      "source": [
        ""
      ],
      "execution_count": null,
      "outputs": []
    },
    {
      "cell_type": "code",
      "metadata": {
        "id": "gdkooJ_XHU25"
      },
      "source": [
        ""
      ],
      "execution_count": null,
      "outputs": []
    },
    {
      "cell_type": "code",
      "metadata": {
        "id": "fyFnnlcTHU26"
      },
      "source": [
        ""
      ],
      "execution_count": null,
      "outputs": []
    },
    {
      "cell_type": "code",
      "metadata": {
        "id": "w74HnSkSHU26"
      },
      "source": [
        ""
      ],
      "execution_count": null,
      "outputs": []
    }
  ]
}